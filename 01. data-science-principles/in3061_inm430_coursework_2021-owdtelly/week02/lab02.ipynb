{
 "cells": [
  {
   "cell_type": "code",
   "execution_count": 2,
   "metadata": {},
   "outputs": [],
   "source": [
    "import pandas as pd\n",
    "import matplotlib.pyplot as plt\n",
    "import numpy as np\n",
    "\n"
   ]
  },
  {
   "cell_type": "code",
   "execution_count": 3,
   "metadata": {},
   "outputs": [
    {
     "data": {
      "text/html": [
       "<div>\n",
       "<style scoped>\n",
       "    .dataframe tbody tr th:only-of-type {\n",
       "        vertical-align: middle;\n",
       "    }\n",
       "\n",
       "    .dataframe tbody tr th {\n",
       "        vertical-align: top;\n",
       "    }\n",
       "\n",
       "    .dataframe thead th {\n",
       "        text-align: right;\n",
       "    }\n",
       "</style>\n",
       "<table border=\"1\" class=\"dataframe\">\n",
       "  <thead>\n",
       "    <tr style=\"text-align: right;\">\n",
       "      <th></th>\n",
       "      <th>PassengerId</th>\n",
       "      <th>Survived</th>\n",
       "      <th>Pclass</th>\n",
       "      <th>Name</th>\n",
       "      <th>Sex</th>\n",
       "      <th>Age</th>\n",
       "      <th>TicketType</th>\n",
       "    </tr>\n",
       "  </thead>\n",
       "  <tbody>\n",
       "    <tr>\n",
       "      <th>0</th>\n",
       "      <td>1</td>\n",
       "      <td>0</td>\n",
       "      <td>3</td>\n",
       "      <td>Braund, Mr. Owen Harris</td>\n",
       "      <td>male</td>\n",
       "      <td>22.0</td>\n",
       "      <td>1</td>\n",
       "    </tr>\n",
       "    <tr>\n",
       "      <th>1</th>\n",
       "      <td>2</td>\n",
       "      <td>1</td>\n",
       "      <td>1</td>\n",
       "      <td>Cumings, Mrs. John Bradley (Florence Briggs Th...</td>\n",
       "      <td>female</td>\n",
       "      <td>38.0</td>\n",
       "      <td>2</td>\n",
       "    </tr>\n",
       "    <tr>\n",
       "      <th>2</th>\n",
       "      <td>3</td>\n",
       "      <td>1</td>\n",
       "      <td>3</td>\n",
       "      <td>Heikkinen, Miss. Laina</td>\n",
       "      <td>female</td>\n",
       "      <td>26.0</td>\n",
       "      <td>3</td>\n",
       "    </tr>\n",
       "    <tr>\n",
       "      <th>3</th>\n",
       "      <td>4</td>\n",
       "      <td>1</td>\n",
       "      <td>1</td>\n",
       "      <td>Futrelle, Mrs. Jacques Heath (Lily May Peel)</td>\n",
       "      <td>female</td>\n",
       "      <td>35.0</td>\n",
       "      <td>4</td>\n",
       "    </tr>\n",
       "    <tr>\n",
       "      <th>4</th>\n",
       "      <td>5</td>\n",
       "      <td>0</td>\n",
       "      <td>3</td>\n",
       "      <td>Allen, Mr. William Henry</td>\n",
       "      <td>male</td>\n",
       "      <td>35.0</td>\n",
       "      <td>5</td>\n",
       "    </tr>\n",
       "  </tbody>\n",
       "</table>\n",
       "</div>"
      ],
      "text/plain": [
       "   PassengerId  Survived  Pclass  \\\n",
       "0            1         0       3   \n",
       "1            2         1       1   \n",
       "2            3         1       3   \n",
       "3            4         1       1   \n",
       "4            5         0       3   \n",
       "\n",
       "                                                Name     Sex   Age  TicketType  \n",
       "0                            Braund, Mr. Owen Harris    male  22.0           1  \n",
       "1  Cumings, Mrs. John Bradley (Florence Briggs Th...  female  38.0           2  \n",
       "2                             Heikkinen, Miss. Laina  female  26.0           3  \n",
       "3       Futrelle, Mrs. Jacques Heath (Lily May Peel)  female  35.0           4  \n",
       "4                           Allen, Mr. William Henry    male  35.0           5  "
      ]
     },
     "execution_count": 3,
     "metadata": {},
     "output_type": "execute_result"
    }
   ],
   "source": [
    "passenger_data = pd.read_csv('passengerData.csv')\n",
    "\n",
    "passenger_data.head()\n",
    "\n"
   ]
  },
  {
   "cell_type": "code",
   "execution_count": 4,
   "metadata": {},
   "outputs": [
    {
     "data": {
      "text/html": [
       "<div>\n",
       "<style scoped>\n",
       "    .dataframe tbody tr th:only-of-type {\n",
       "        vertical-align: middle;\n",
       "    }\n",
       "\n",
       "    .dataframe tbody tr th {\n",
       "        vertical-align: top;\n",
       "    }\n",
       "\n",
       "    .dataframe thead th {\n",
       "        text-align: right;\n",
       "    }\n",
       "</style>\n",
       "<table border=\"1\" class=\"dataframe\">\n",
       "  <thead>\n",
       "    <tr style=\"text-align: right;\">\n",
       "      <th></th>\n",
       "      <th>TicketType</th>\n",
       "      <th>Fare</th>\n",
       "    </tr>\n",
       "  </thead>\n",
       "  <tbody>\n",
       "    <tr>\n",
       "      <th>0</th>\n",
       "      <td>1</td>\n",
       "      <td>33</td>\n",
       "    </tr>\n",
       "    <tr>\n",
       "      <th>1</th>\n",
       "      <td>2</td>\n",
       "      <td>56</td>\n",
       "    </tr>\n",
       "    <tr>\n",
       "      <th>2</th>\n",
       "      <td>3</td>\n",
       "      <td>77</td>\n",
       "    </tr>\n",
       "    <tr>\n",
       "      <th>3</th>\n",
       "      <td>4</td>\n",
       "      <td>22</td>\n",
       "    </tr>\n",
       "    <tr>\n",
       "      <th>4</th>\n",
       "      <td>5</td>\n",
       "      <td>14</td>\n",
       "    </tr>\n",
       "  </tbody>\n",
       "</table>\n",
       "</div>"
      ],
      "text/plain": [
       "   TicketType  Fare\n",
       "0           1    33\n",
       "1           2    56\n",
       "2           3    77\n",
       "3           4    22\n",
       "4           5    14"
      ]
     },
     "execution_count": 4,
     "metadata": {},
     "output_type": "execute_result"
    }
   ],
   "source": [
    "ticket_data = pd.read_excel('ticketPrices.xlsx')\n",
    "\n",
    "ticket_data.head()"
   ]
  },
  {
   "cell_type": "code",
   "execution_count": 5,
   "metadata": {},
   "outputs": [
    {
     "data": {
      "text/html": [
       "<div>\n",
       "<style scoped>\n",
       "    .dataframe tbody tr th:only-of-type {\n",
       "        vertical-align: middle;\n",
       "    }\n",
       "\n",
       "    .dataframe tbody tr th {\n",
       "        vertical-align: top;\n",
       "    }\n",
       "\n",
       "    .dataframe thead th {\n",
       "        text-align: right;\n",
       "    }\n",
       "</style>\n",
       "<table border=\"1\" class=\"dataframe\">\n",
       "  <thead>\n",
       "    <tr style=\"text-align: right;\">\n",
       "      <th></th>\n",
       "      <th>PassengerId</th>\n",
       "      <th>Survived</th>\n",
       "      <th>Pclass</th>\n",
       "      <th>Name</th>\n",
       "      <th>Sex</th>\n",
       "      <th>Age</th>\n",
       "      <th>TicketType</th>\n",
       "      <th>Fare</th>\n",
       "    </tr>\n",
       "  </thead>\n",
       "  <tbody>\n",
       "    <tr>\n",
       "      <th>0</th>\n",
       "      <td>1</td>\n",
       "      <td>0</td>\n",
       "      <td>3</td>\n",
       "      <td>Braund, Mr. Owen Harris</td>\n",
       "      <td>male</td>\n",
       "      <td>22.0</td>\n",
       "      <td>1</td>\n",
       "      <td>33</td>\n",
       "    </tr>\n",
       "    <tr>\n",
       "      <th>1</th>\n",
       "      <td>9</td>\n",
       "      <td>1</td>\n",
       "      <td>3</td>\n",
       "      <td>Johnson, Mrs. Oscar W (Elisabeth Vilhelmina Berg)</td>\n",
       "      <td>female</td>\n",
       "      <td>27.0</td>\n",
       "      <td>1</td>\n",
       "      <td>33</td>\n",
       "    </tr>\n",
       "    <tr>\n",
       "      <th>2</th>\n",
       "      <td>17</td>\n",
       "      <td>0</td>\n",
       "      <td>3</td>\n",
       "      <td>Rice, Master. Eugene</td>\n",
       "      <td>male</td>\n",
       "      <td>2.0</td>\n",
       "      <td>1</td>\n",
       "      <td>33</td>\n",
       "    </tr>\n",
       "    <tr>\n",
       "      <th>3</th>\n",
       "      <td>25</td>\n",
       "      <td>0</td>\n",
       "      <td>3</td>\n",
       "      <td>Palsson, Miss. Torborg Danira</td>\n",
       "      <td>female</td>\n",
       "      <td>8.0</td>\n",
       "      <td>1</td>\n",
       "      <td>33</td>\n",
       "    </tr>\n",
       "    <tr>\n",
       "      <th>4</th>\n",
       "      <td>33</td>\n",
       "      <td>1</td>\n",
       "      <td>3</td>\n",
       "      <td>Glynn, Miss. Mary Agatha</td>\n",
       "      <td>female</td>\n",
       "      <td>NaN</td>\n",
       "      <td>1</td>\n",
       "      <td>33</td>\n",
       "    </tr>\n",
       "  </tbody>\n",
       "</table>\n",
       "</div>"
      ],
      "text/plain": [
       "   PassengerId  Survived  Pclass  \\\n",
       "0            1         0       3   \n",
       "1            9         1       3   \n",
       "2           17         0       3   \n",
       "3           25         0       3   \n",
       "4           33         1       3   \n",
       "\n",
       "                                                Name     Sex   Age  \\\n",
       "0                            Braund, Mr. Owen Harris    male  22.0   \n",
       "1  Johnson, Mrs. Oscar W (Elisabeth Vilhelmina Berg)  female  27.0   \n",
       "2                               Rice, Master. Eugene    male   2.0   \n",
       "3                      Palsson, Miss. Torborg Danira  female   8.0   \n",
       "4                           Glynn, Miss. Mary Agatha  female   NaN   \n",
       "\n",
       "   TicketType  Fare  \n",
       "0           1    33  \n",
       "1           1    33  \n",
       "2           1    33  \n",
       "3           1    33  \n",
       "4           1    33  "
      ]
     },
     "execution_count": 5,
     "metadata": {},
     "output_type": "execute_result"
    }
   ],
   "source": [
    "combined_data = pd.merge(passenger_data, ticket_data, on='TicketType')\n",
    "\n",
    "combined_data.head()"
   ]
  },
  {
   "cell_type": "code",
   "execution_count": 6,
   "metadata": {},
   "outputs": [
    {
     "name": "stdout",
     "output_type": "stream",
     "text": [
      "80.0\n"
     ]
    }
   ],
   "source": [
    "oldest_passenger = combined_data.Age.max()\n",
    "\n",
    "print(oldest_passenger)\n",
    "\n"
   ]
  },
  {
   "cell_type": "code",
   "execution_count": 7,
   "metadata": {},
   "outputs": [
    {
     "data": {
      "image/png": "[encoded data removed]",
      "text/plain": [
       "<Figure size 640x480 with 1 Axes>"
      ]
     },
     "metadata": {},
     "output_type": "display_data"
    }
   ],
   "source": [
    "plt.scatter(x=combined_data.Age, y=combined_data.Fare)\n",
    "plt.xlabel('Age')\n",
    "plt.ylabel('TicketPrice')\n",
    "plt.show()"
   ]
  },
  {
   "cell_type": "code",
   "execution_count": 8,
   "metadata": {},
   "outputs": [
    {
     "data": {
      "image/png": "[encoded data removed]",
      "text/plain": [
       "<Figure size 640x480 with 1 Axes>"
      ]
     },
     "metadata": {},
     "output_type": "display_data"
    }
   ],
   "source": [
    "filtered_data = combined_data[(combined_data.Age >= 40) & (combined_data.Age <=50) & (combined_data.Fare >= 40)]\n",
    "\n",
    "plt.scatter(x=filtered_data.Age, y=filtered_data.Fare)\n",
    "plt.xlabel('Age')\n",
    "plt.ylabel('TicketPrice')\n",
    "plt.show()"
   ]
  },
  {
   "cell_type": "code",
   "execution_count": 9,
   "metadata": {},
   "outputs": [
    {
     "data": {
      "text/plain": [
       "PassengerId      0\n",
       "Survived         0\n",
       "Pclass           0\n",
       "Name             0\n",
       "Sex              0\n",
       "Age            177\n",
       "SibSp            0\n",
       "Parch            0\n",
       "Ticket           0\n",
       "Fare            46\n",
       "Cabin          687\n",
       "Embarked         2\n",
       "dtype: int64"
      ]
     },
     "execution_count": 9,
     "metadata": {},
     "output_type": "execute_result"
    }
   ],
   "source": [
    "modified_data = pd.read_csv('titanicSurvival_m.csv')\n",
    "\n",
    "modified_data.isna().sum()\n",
    "\n"
   ]
  },
  {
   "cell_type": "code",
   "execution_count": 10,
   "metadata": {},
   "outputs": [
    {
     "data": {
      "image/png": "[encoded data removed]",
      "text/plain": [
       "<Figure size 640x480 with 1 Axes>"
      ]
     },
     "metadata": {},
     "output_type": "display_data"
    }
   ],
   "source": [
    "modified_data = pd.read_csv('titanicSurvival_m.csv')\n",
    "\n",
    "modified_data.Age.fillna(0, inplace=True)\n",
    "modified_data.Fare.fillna(0, inplace=True)\n",
    "\n",
    "modified_data.isna().sum()\n",
    "\n",
    "plt.scatter(x=modified_data.Age, y=modified_data.Fare)\n",
    "plt.xlabel('Age')\n",
    "plt.ylabel('TicketPrice')\n",
    "plt.show()"
   ]
  },
  {
   "cell_type": "code",
   "execution_count": 11,
   "metadata": {},
   "outputs": [
    {
     "data": {
      "image/png": "[encoded data removed]",
      "text/plain": [
       "<Figure size 640x480 with 1 Axes>"
      ]
     },
     "metadata": {},
     "output_type": "display_data"
    }
   ],
   "source": [
    "modified_data = pd.read_csv('titanicSurvival_m.csv')\n",
    "\n",
    "modified_data.Age.fillna(modified_data.Age.mean(), inplace=True)\n",
    "modified_data.Fare.fillna(modified_data.Fare.mean(), inplace=True)\n",
    "\n",
    "modified_data.isna().sum()\n",
    "\n",
    "plt.scatter(x=modified_data.Age, y=modified_data.Fare)\n",
    "plt.xlabel('Age')\n",
    "plt.ylabel('TicketPrice')\n",
    "plt.show()"
   ]
  },
  {
   "cell_type": "markdown",
   "metadata": {},
   "source": [
    "The values on the plots look very similar but with some minor differences such as there no longer being a straight line of points at age 0. "
   ]
  },
  {
   "cell_type": "code",
   "execution_count": 30,
   "metadata": {},
   "outputs": [],
   "source": [
    "tb_data = pd.read_csv('TB_burden_countries_2014-09-29.csv')\n",
    "\n",
    "\n",
    "tb_data.drop(columns=['iso2', 'iso3', 'source_mort', 'country', 'g_whoregion', 'source_tbhiv'], axis=1, inplace=True)\n",
    "\n"
   ]
  },
  {
   "cell_type": "code",
   "execution_count": 31,
   "metadata": {},
   "outputs": [
    {
     "data": {
      "text/plain": [
       "iso_numeric                   int64\n",
       "year                          int64\n",
       "e_pop_num                     int64\n",
       "e_prev_100k                 float64\n",
       "e_prev_100k_lo              float64\n",
       "e_prev_100k_hi              float64\n",
       "e_prev_num                  float64\n",
       "e_prev_num_lo               float64\n",
       "e_prev_num_hi               float64\n",
       "e_mort_exc_tbhiv_100k       float64\n",
       "e_mort_exc_tbhiv_100k_lo    float64\n",
       "e_mort_exc_tbhiv_100k_hi    float64\n",
       "e_mort_exc_tbhiv_num        float64\n",
       "e_mort_exc_tbhiv_num_lo     float64\n",
       "e_mort_exc_tbhiv_num_hi     float64\n",
       "e_inc_100k                  float64\n",
       "e_inc_100k_lo               float64\n",
       "e_inc_100k_hi               float64\n",
       "e_inc_num                   float64\n",
       "e_inc_num_lo                float64\n",
       "e_inc_num_hi                float64\n",
       "e_tbhiv_prct                float64\n",
       "e_tbhiv_prct_lo             float64\n",
       "e_tbhiv_prct_hi             float64\n",
       "e_inc_tbhiv_100k            float64\n",
       "e_inc_tbhiv_100k_lo         float64\n",
       "e_inc_tbhiv_100k_hi         float64\n",
       "e_inc_tbhiv_num             float64\n",
       "e_inc_tbhiv_num_lo          float64\n",
       "e_inc_tbhiv_num_hi          float64\n",
       "c_cdr                       float64\n",
       "c_cdr_lo                    float64\n",
       "c_cdr_hi                    float64\n",
       "dtype: object"
      ]
     },
     "execution_count": 31,
     "metadata": {},
     "output_type": "execute_result"
    }
   ],
   "source": [
    "\n",
    "tb_data.dtypes"
   ]
  },
  {
   "cell_type": "code",
   "execution_count": 36,
   "metadata": {},
   "outputs": [
    {
     "data": {
      "text/plain": [
       "iso_numeric                 0\n",
       "year                        0\n",
       "e_pop_num                   0\n",
       "e_prev_100k                 0\n",
       "e_prev_100k_lo              0\n",
       "e_prev_100k_hi              0\n",
       "e_prev_num                  0\n",
       "e_prev_num_lo               0\n",
       "e_prev_num_hi               0\n",
       "e_mort_exc_tbhiv_100k       0\n",
       "e_mort_exc_tbhiv_100k_lo    0\n",
       "e_mort_exc_tbhiv_100k_hi    0\n",
       "e_mort_exc_tbhiv_num        0\n",
       "e_mort_exc_tbhiv_num_lo     0\n",
       "e_mort_exc_tbhiv_num_hi     0\n",
       "e_inc_100k                  0\n",
       "e_inc_100k_lo               0\n",
       "e_inc_100k_hi               0\n",
       "e_inc_num                   0\n",
       "e_inc_num_lo                0\n",
       "e_inc_num_hi                0\n",
       "e_tbhiv_prct                0\n",
       "e_tbhiv_prct_lo             0\n",
       "e_tbhiv_prct_hi             0\n",
       "e_inc_tbhiv_100k            0\n",
       "e_inc_tbhiv_100k_lo         0\n",
       "e_inc_tbhiv_100k_hi         0\n",
       "e_inc_tbhiv_num             0\n",
       "e_inc_tbhiv_num_lo          0\n",
       "e_inc_tbhiv_num_hi          0\n",
       "c_cdr                       0\n",
       "c_cdr_lo                    0\n",
       "c_cdr_hi                    0\n",
       "dtype: int64"
      ]
     },
     "execution_count": 36,
     "metadata": {},
     "output_type": "execute_result"
    }
   ],
   "source": [
    "tb_data.fillna(tb_data.mean(), inplace=True)\n",
    "\n",
    "\n",
    "tb_data.isna().sum()"
   ]
  },
  {
   "cell_type": "code",
   "execution_count": 40,
   "metadata": {},
   "outputs": [
    {
     "data": {
      "text/plain": [
       "(array([749, 335, 100,  57,  23,  14,   2], dtype=int64),\n",
       " array([ 500, 1000, 1500, 2000, 2500, 3000, 3500, 4000]))"
      ]
     },
     "execution_count": 40,
     "metadata": {},
     "output_type": "execute_result"
    }
   ],
   "source": [
    "np.histogram(tb_data.e_prev_100k_hi, bins=[500, 1000, 1500, 2000, 2500, 3000, 3500, 4000])\n",
    "\n",
    "#testing git"
   ]
  },
  {
   "cell_type": "code",
   "execution_count": 62,
   "metadata": {},
   "outputs": [
    {
     "data": {
      "text/plain": [
       "(array([  67,  492,  769, 1002, 1021, 1119,  400,   17], dtype=int64),\n",
       " array([1, 2, 3, 4, 5, 6, 7, 8, 9]))"
      ]
     },
     "execution_count": 62,
     "metadata": {},
     "output_type": "execute_result"
    }
   ],
   "source": [
    "tb_data['log_value'] = np.log(tb_data['e_prev_100k_hi'])\n",
    "\n",
    "np.histogram(tb_data.log_value, bins=[1,2,3,4,5,6,7,8,9])\n"
   ]
  },
  {
   "cell_type": "code",
   "execution_count": 63,
   "metadata": {},
   "outputs": [
    {
     "data": {
      "text/html": [
       "<div>\n",
       "<style scoped>\n",
       "    .dataframe tbody tr th:only-of-type {\n",
       "        vertical-align: middle;\n",
       "    }\n",
       "\n",
       "    .dataframe tbody tr th {\n",
       "        vertical-align: top;\n",
       "    }\n",
       "\n",
       "    .dataframe thead th {\n",
       "        text-align: right;\n",
       "    }\n",
       "</style>\n",
       "<table border=\"1\" class=\"dataframe\">\n",
       "  <thead>\n",
       "    <tr style=\"text-align: right;\">\n",
       "      <th></th>\n",
       "      <th>iso_numeric</th>\n",
       "      <th>year</th>\n",
       "      <th>e_pop_num</th>\n",
       "      <th>e_prev_100k</th>\n",
       "      <th>e_prev_100k_lo</th>\n",
       "      <th>e_prev_100k_hi</th>\n",
       "      <th>e_prev_num</th>\n",
       "      <th>e_prev_num_lo</th>\n",
       "      <th>e_prev_num_hi</th>\n",
       "      <th>e_mort_exc_tbhiv_100k</th>\n",
       "      <th>...</th>\n",
       "      <th>e_inc_tbhiv_100k</th>\n",
       "      <th>e_inc_tbhiv_100k_lo</th>\n",
       "      <th>e_inc_tbhiv_100k_hi</th>\n",
       "      <th>e_inc_tbhiv_num</th>\n",
       "      <th>e_inc_tbhiv_num_lo</th>\n",
       "      <th>e_inc_tbhiv_num_hi</th>\n",
       "      <th>c_cdr</th>\n",
       "      <th>c_cdr_lo</th>\n",
       "      <th>c_cdr_hi</th>\n",
       "      <th>log_value</th>\n",
       "    </tr>\n",
       "  </thead>\n",
       "  <tbody>\n",
       "    <tr>\n",
       "      <th>0</th>\n",
       "      <td>4</td>\n",
       "      <td>1990</td>\n",
       "      <td>11731193</td>\n",
       "      <td>327.0</td>\n",
       "      <td>112.0</td>\n",
       "      <td>655.0</td>\n",
       "      <td>38000.0</td>\n",
       "      <td>13000.0</td>\n",
       "      <td>77000.0</td>\n",
       "      <td>31.0</td>\n",
       "      <td>...</td>\n",
       "      <td>0.35</td>\n",
       "      <td>0.22</td>\n",
       "      <td>0.52</td>\n",
       "      <td>41.0</td>\n",
       "      <td>25.0</td>\n",
       "      <td>60.0</td>\n",
       "      <td>20.000000</td>\n",
       "      <td>13.000000</td>\n",
       "      <td>32.00000</td>\n",
       "      <td>6.484635</td>\n",
       "    </tr>\n",
       "    <tr>\n",
       "      <th>1</th>\n",
       "      <td>4</td>\n",
       "      <td>1991</td>\n",
       "      <td>12612043</td>\n",
       "      <td>359.0</td>\n",
       "      <td>172.0</td>\n",
       "      <td>613.0</td>\n",
       "      <td>45000.0</td>\n",
       "      <td>22000.0</td>\n",
       "      <td>77000.0</td>\n",
       "      <td>35.0</td>\n",
       "      <td>...</td>\n",
       "      <td>0.36</td>\n",
       "      <td>0.19</td>\n",
       "      <td>0.58</td>\n",
       "      <td>45.0</td>\n",
       "      <td>24.0</td>\n",
       "      <td>73.0</td>\n",
       "      <td>97.000000</td>\n",
       "      <td>77.000000</td>\n",
       "      <td>120.00000</td>\n",
       "      <td>6.418365</td>\n",
       "    </tr>\n",
       "    <tr>\n",
       "      <th>2</th>\n",
       "      <td>4</td>\n",
       "      <td>1992</td>\n",
       "      <td>13811876</td>\n",
       "      <td>387.0</td>\n",
       "      <td>169.0</td>\n",
       "      <td>693.0</td>\n",
       "      <td>53000.0</td>\n",
       "      <td>23000.0</td>\n",
       "      <td>96000.0</td>\n",
       "      <td>39.0</td>\n",
       "      <td>...</td>\n",
       "      <td>0.37</td>\n",
       "      <td>0.19</td>\n",
       "      <td>0.62</td>\n",
       "      <td>51.0</td>\n",
       "      <td>26.0</td>\n",
       "      <td>86.0</td>\n",
       "      <td>67.570706</td>\n",
       "      <td>57.608038</td>\n",
       "      <td>83.01595</td>\n",
       "      <td>6.541030</td>\n",
       "    </tr>\n",
       "    <tr>\n",
       "      <th>3</th>\n",
       "      <td>4</td>\n",
       "      <td>1993</td>\n",
       "      <td>15175325</td>\n",
       "      <td>412.0</td>\n",
       "      <td>186.0</td>\n",
       "      <td>724.0</td>\n",
       "      <td>62000.0</td>\n",
       "      <td>28000.0</td>\n",
       "      <td>110000.0</td>\n",
       "      <td>42.0</td>\n",
       "      <td>...</td>\n",
       "      <td>0.38</td>\n",
       "      <td>0.20</td>\n",
       "      <td>0.63</td>\n",
       "      <td>58.0</td>\n",
       "      <td>30.0</td>\n",
       "      <td>95.0</td>\n",
       "      <td>67.570706</td>\n",
       "      <td>57.608038</td>\n",
       "      <td>83.01595</td>\n",
       "      <td>6.584791</td>\n",
       "    </tr>\n",
       "    <tr>\n",
       "      <th>4</th>\n",
       "      <td>4</td>\n",
       "      <td>1994</td>\n",
       "      <td>16485018</td>\n",
       "      <td>431.0</td>\n",
       "      <td>199.0</td>\n",
       "      <td>751.0</td>\n",
       "      <td>71000.0</td>\n",
       "      <td>33000.0</td>\n",
       "      <td>120000.0</td>\n",
       "      <td>46.0</td>\n",
       "      <td>...</td>\n",
       "      <td>0.40</td>\n",
       "      <td>0.21</td>\n",
       "      <td>0.64</td>\n",
       "      <td>65.0</td>\n",
       "      <td>35.0</td>\n",
       "      <td>100.0</td>\n",
       "      <td>67.570706</td>\n",
       "      <td>57.608038</td>\n",
       "      <td>83.01595</td>\n",
       "      <td>6.621406</td>\n",
       "    </tr>\n",
       "  </tbody>\n",
       "</table>\n",
       "<p>5 rows × 34 columns</p>\n",
       "</div>"
      ],
      "text/plain": [
       "   iso_numeric  year  e_pop_num  e_prev_100k  e_prev_100k_lo  e_prev_100k_hi  \\\n",
       "0            4  1990   11731193        327.0           112.0           655.0   \n",
       "1            4  1991   12612043        359.0           172.0           613.0   \n",
       "2            4  1992   13811876        387.0           169.0           693.0   \n",
       "3            4  1993   15175325        412.0           186.0           724.0   \n",
       "4            4  1994   16485018        431.0           199.0           751.0   \n",
       "\n",
       "   e_prev_num  e_prev_num_lo  e_prev_num_hi  e_mort_exc_tbhiv_100k  ...  \\\n",
       "0     38000.0        13000.0        77000.0                   31.0  ...   \n",
       "1     45000.0        22000.0        77000.0                   35.0  ...   \n",
       "2     53000.0        23000.0        96000.0                   39.0  ...   \n",
       "3     62000.0        28000.0       110000.0                   42.0  ...   \n",
       "4     71000.0        33000.0       120000.0                   46.0  ...   \n",
       "\n",
       "   e_inc_tbhiv_100k  e_inc_tbhiv_100k_lo  e_inc_tbhiv_100k_hi  \\\n",
       "0              0.35                 0.22                 0.52   \n",
       "1              0.36                 0.19                 0.58   \n",
       "2              0.37                 0.19                 0.62   \n",
       "3              0.38                 0.20                 0.63   \n",
       "4              0.40                 0.21                 0.64   \n",
       "\n",
       "   e_inc_tbhiv_num  e_inc_tbhiv_num_lo  e_inc_tbhiv_num_hi      c_cdr  \\\n",
       "0             41.0                25.0                60.0  20.000000   \n",
       "1             45.0                24.0                73.0  97.000000   \n",
       "2             51.0                26.0                86.0  67.570706   \n",
       "3             58.0                30.0                95.0  67.570706   \n",
       "4             65.0                35.0               100.0  67.570706   \n",
       "\n",
       "    c_cdr_lo   c_cdr_hi  log_value  \n",
       "0  13.000000   32.00000   6.484635  \n",
       "1  77.000000  120.00000   6.418365  \n",
       "2  57.608038   83.01595   6.541030  \n",
       "3  57.608038   83.01595   6.584791  \n",
       "4  57.608038   83.01595   6.621406  \n",
       "\n",
       "[5 rows x 34 columns]"
      ]
     },
     "execution_count": 63,
     "metadata": {},
     "output_type": "execute_result"
    }
   ],
   "source": [
    "tb_data.head()"
   ]
  }
 ],
 "metadata": {
  "kernelspec": {
   "display_name": "base",
   "language": "python",
   "name": "python3"
  },
  "language_info": {
   "codemirror_mode": {
    "name": "ipython",
    "version": 3
   },
   "file_extension": ".py",
   "mimetype": "text/x-python",
   "name": "python",
   "nbconvert_exporter": "python",
   "pygments_lexer": "ipython3",
   "version": "3.11.4"
  }
 },
 "nbformat": 4,
 "nbformat_minor": 2
}
