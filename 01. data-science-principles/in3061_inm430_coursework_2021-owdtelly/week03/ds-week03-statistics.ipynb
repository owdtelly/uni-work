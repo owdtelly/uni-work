{
 "cells": [
  {
   "cell_type": "markdown",
   "metadata": {},
   "source": [
    "# Examples for DS Lecture, Week 3\n",
    "*Phong Nguyen, 10 Oct 2018*"
   ]
  },
  {
   "cell_type": "markdown",
   "metadata": {},
   "source": [
    "## Binomial distribution"
   ]
  },
  {
   "cell_type": "markdown",
   "metadata": {},
   "source": [
    "#### Task: Draw samples from a Binomial distribution and visualise them\n",
    "- a straightforward way: use a library like [numpy](https://docs.scipy.org/doc/numpy-1.15.0/reference/generated/numpy.random.binomial.html)\n",
    "- a fun way: simulate data by hands"
   ]
  },
  {
   "cell_type": "code",
   "execution_count": 17,
   "metadata": {
    "collapsed": true
   },
   "outputs": [],
   "source": [
    "n = 10000\n",
    "p = 0.2"
   ]
  },
  {
   "cell_type": "markdown",
   "metadata": {},
   "source": [
    "First, simulate a biased coin with probability of Head as $p$."
   ]
  },
  {
   "cell_type": "code",
   "execution_count": 2,
   "metadata": {
    "collapsed": true
   },
   "outputs": [],
   "source": [
    "from random import random\n",
    "\n",
    "def flip_coin(p):\n",
    "    'Return H or T with probability of H as p.'\n",
    "    return 'H' if random() <= p else 'T'"
   ]
  },
  {
   "cell_type": "code",
   "execution_count": 3,
   "metadata": {
    "collapsed": true
   },
   "outputs": [
    {
     "data": {
      "text/plain": [
       "'T'"
      ]
     },
     "execution_count": 3,
     "metadata": {},
     "output_type": "execute_result"
    }
   ],
   "source": [
    "flip_coin(p)"
   ]
  },
  {
   "cell_type": "markdown",
   "metadata": {},
   "source": [
    "Test by flipping the coin 100 times."
   ]
  },
  {
   "cell_type": "code",
   "execution_count": 7,
   "metadata": {
    "collapsed": true,
    "scrolled": true
   },
   "outputs": [
    {
     "name": "stdout",
     "output_type": "stream",
     "text": [
      "['H', 'T', 'T', 'T', 'T', 'T', 'T', 'T', 'H', 'T', 'T', 'T', 'H', 'T', 'T', 'T', 'T', 'T', 'T', 'T', 'H', 'T', 'T', 'T', 'H', 'T', 'T', 'T', 'T', 'H', 'T', 'T', 'T', 'H', 'T', 'H', 'T', 'T', 'H', 'T', 'T', 'H', 'H', 'T', 'H', 'H', 'T', 'T', 'T', 'H', 'T', 'H', 'T', 'T', 'T', 'T', 'T', 'H', 'T', 'T', 'T', 'T', 'T', 'T', 'T', 'T', 'T', 'T', 'T', 'T', 'T', 'T', 'T', 'T', 'H', 'T', 'T', 'T', 'T', 'T', 'T', 'H', 'T', 'T', 'H', 'T', 'T', 'T', 'T', 'T', 'H', 'T', 'H', 'T', 'T', 'H', 'T', 'T', 'T', 'T']\n",
      "Counter({'T': 78, 'H': 22})\n"
     ]
    }
   ],
   "source": [
    "from collections import Counter\n",
    "\n",
    "coins = [flip_coin(p) for _ in range(100)]\n",
    "print(coins)\n",
    "print(Counter(coins))"
   ]
  },
  {
   "cell_type": "markdown",
   "metadata": {},
   "source": [
    "Flip the coin $n$ times to simulate Binomial distributed data."
   ]
  },
  {
   "cell_type": "code",
   "execution_count": 8,
   "metadata": {
    "collapsed": true
   },
   "outputs": [],
   "source": [
    "def run_experiment(n, p):\n",
    "    'Flip the coins n times and return the number of heads.'\n",
    "    coins = [flip_coin(p) for _ in range(n)]\n",
    "    return Counter(coins)['H']"
   ]
  },
  {
   "cell_type": "code",
   "execution_count": 14,
   "metadata": {
    "collapsed": true
   },
   "outputs": [
    {
     "data": {
      "text/plain": [
       "2000793"
      ]
     },
     "execution_count": 14,
     "metadata": {},
     "output_type": "execute_result"
    }
   ],
   "source": [
    "run_experiment(n, p)"
   ]
  },
  {
   "cell_type": "markdown",
   "metadata": {},
   "source": [
    "The result of each experiment is a sample drawn from a Binomial distribution $B(n,p)$."
   ]
  },
  {
   "cell_type": "code",
   "execution_count": 15,
   "metadata": {
    "collapsed": true
   },
   "outputs": [],
   "source": [
    "import matplotlib.pyplot as plt\n",
    "%matplotlib inline\n",
    "\n",
    "def draw_barchart(data):\n",
    "    counts = Counter(data)\n",
    "    plt.bar(counts.keys(), counts.values(), width=0.9)\n",
    "    plt.show()    "
   ]
  },
  {
   "cell_type": "code",
   "execution_count": 18,
   "metadata": {
    "collapsed": true
   },
   "outputs": [
    {
     "data": {
      "image/png": "[encoded data removed]",
      "text/plain": [
       "<Figure size 640x480 with 1 Axes>"
      ]
     },
     "metadata": {},
     "output_type": "display_data"
    }
   ],
   "source": [
    "sample_size = 1000\n",
    "data = [run_experiment(n, p) for _ in range(sample_size)] \n",
    "draw_barchart(data)"
   ]
  },
  {
   "cell_type": "markdown",
   "metadata": {},
   "source": [
    "Just to double check with `numpy` library."
   ]
  },
  {
   "cell_type": "code",
   "execution_count": 19,
   "metadata": {
    "collapsed": true
   },
   "outputs": [
    {
     "data": {
      "image/png": "[encoded data removed]",
      "text/plain": [
       "<Figure size 640x480 with 1 Axes>"
      ]
     },
     "metadata": {},
     "output_type": "display_data"
    }
   ],
   "source": [
    "import numpy as np\n",
    "data = np.random.binomial(n=n, p=p, size=sample_size)\n",
    "draw_barchart(data)"
   ]
  },
  {
   "cell_type": "markdown",
   "metadata": {},
   "source": [
    "## Q-Q Plot"
   ]
  },
  {
   "cell_type": "markdown",
   "metadata": {},
   "source": [
    "#### Task: Draw a qq plot"
   ]
  },
  {
   "cell_type": "markdown",
   "metadata": {},
   "source": [
    "First, generate 100 random numbers following the standard normal distribution."
   ]
  },
  {
   "cell_type": "code",
   "execution_count": 20,
   "metadata": {
    "collapsed": true
   },
   "outputs": [
    {
     "data": {
      "text/plain": [
       "array([ 6.88780769e-01, -6.75919947e-01,  2.93074331e-01, -5.79106081e-01,\n",
       "        1.30123445e+00,  1.92256751e+00,  2.18748338e+00, -6.11089247e-01,\n",
       "        5.10607792e-01,  8.00580338e-01, -1.24240878e+00, -9.72615555e-02,\n",
       "        6.73447667e-01, -8.09438584e-01, -1.20924654e+00,  7.73688654e-01,\n",
       "       -1.80407789e-01, -7.15272562e-01, -6.65776762e-01, -4.00240277e-01,\n",
       "        1.02210373e-01, -2.81966795e-01, -8.97196635e-01,  4.47209664e-01,\n",
       "       -1.69014115e-03,  1.92136642e-02,  1.41253186e-02, -2.12365755e+00,\n",
       "        7.64832697e-01, -2.60131041e-01,  5.96562993e-01,  1.47781161e-01,\n",
       "       -1.07644649e+00, -3.38553909e-02, -9.07882773e-01, -1.24508046e+00,\n",
       "        8.18344926e-01,  7.71729707e-02,  6.41896484e-01,  6.62199941e-01,\n",
       "        7.31149152e-01, -1.50388317e+00,  1.08913093e+00, -2.33995157e-01,\n",
       "       -2.27931569e-01, -3.62124814e-01,  6.61629133e-01, -8.83589961e-01,\n",
       "        3.97824923e-01,  2.04013503e-01,  2.28563153e+00, -1.91917671e+00,\n",
       "       -1.39269263e+00, -1.25892553e+00,  2.54270584e-01,  6.16812644e-02,\n",
       "       -1.89152098e-01,  1.08366049e+00, -1.84011663e+00, -2.08074765e+00,\n",
       "       -1.53975178e+00, -1.89796882e+00, -1.44928885e+00, -7.01578709e-01,\n",
       "        1.70594005e+00,  1.17350126e+00,  7.74663405e-01,  1.52853323e+00,\n",
       "       -6.20245845e-01, -3.23400933e-01, -1.69278855e-01,  1.45817024e+00,\n",
       "       -2.60279427e-01,  1.29039427e+00, -2.70458272e-01, -1.21826880e-01,\n",
       "       -1.73723719e+00, -1.50224828e-01,  1.09277939e+00,  7.30820842e-01,\n",
       "        1.42006497e+00,  1.59212883e-01,  3.05481685e-01, -2.16728817e-01,\n",
       "        1.32739538e-01,  1.05573609e+00, -1.31920218e+00,  3.29600325e-01,\n",
       "       -5.59882859e-01,  1.88647312e+00,  1.76854458e-01,  1.13288764e-01,\n",
       "        7.44063569e-01,  8.02096622e-01,  5.91104027e-01, -1.88662414e+00,\n",
       "        5.16815061e-02, -8.24843208e-01, -1.50028008e+00,  1.07272624e+00])"
      ]
     },
     "execution_count": 20,
     "metadata": {},
     "output_type": "execute_result"
    }
   ],
   "source": [
    "data = np.random.normal(0, 1, 100)\n",
    "data"
   ]
  },
  {
   "cell_type": "code",
   "execution_count": 21,
   "metadata": {
    "collapsed": true
   },
   "outputs": [
    {
     "data": {
      "text/plain": [
       "[-2.1236575532874387,\n",
       " -2.080747647476771,\n",
       " -1.9191767107381565,\n",
       " -1.89796882086382,\n",
       " -1.8866241419297674,\n",
       " -1.8401166327590048,\n",
       " -1.7372371879639605,\n",
       " -1.5397517776487712,\n",
       " -1.503883168136499,\n",
       " -1.5002800761823787,\n",
       " -1.4492888475229067,\n",
       " -1.3926926303103146,\n",
       " -1.3192021781633418,\n",
       " -1.258925525364863,\n",
       " -1.2450804588596074,\n",
       " -1.2424087842288374,\n",
       " -1.2092465433932487,\n",
       " -1.0764464887650502,\n",
       " -0.9078827728846208,\n",
       " -0.89719663470337,\n",
       " -0.8835899610669683,\n",
       " -0.8248432075666484,\n",
       " -0.809438583828091,\n",
       " -0.7152725620996598,\n",
       " -0.7015787087058015,\n",
       " -0.6759199470545456,\n",
       " -0.665776761797449,\n",
       " -0.6202458447825825,\n",
       " -0.6110892465604998,\n",
       " -0.5791060808756464,\n",
       " -0.559882859329502,\n",
       " -0.40024027736886514,\n",
       " -0.36212481375958344,\n",
       " -0.32340093258470026,\n",
       " -0.28196679484650267,\n",
       " -0.27045827230771025,\n",
       " -0.2602794270814703,\n",
       " -0.26013104066177556,\n",
       " -0.23399515694560727,\n",
       " -0.22793156937506365,\n",
       " -0.21672881681285663,\n",
       " -0.18915209793830914,\n",
       " -0.18040778874228838,\n",
       " -0.16927885461205655,\n",
       " -0.15022482755817954,\n",
       " -0.12182688047479759,\n",
       " -0.09726155551012898,\n",
       " -0.03385539087453761,\n",
       " -0.0016901411546769837,\n",
       " 0.014125318636229156,\n",
       " 0.019213664243596502,\n",
       " 0.051681506105535985,\n",
       " 0.06168126440290212,\n",
       " 0.07717297066716225,\n",
       " 0.10221037272833819,\n",
       " 0.11328876372355368,\n",
       " 0.13273953798787475,\n",
       " 0.14778116114951834,\n",
       " 0.15921288308177434,\n",
       " 0.17685445761652957,\n",
       " 0.20401350338760058,\n",
       " 0.25427058437831035,\n",
       " 0.2930743311852241,\n",
       " 0.3054816854677048,\n",
       " 0.32960032516181403,\n",
       " 0.3978249225658629,\n",
       " 0.4472096636631522,\n",
       " 0.5106077921400486,\n",
       " 0.5911040265135097,\n",
       " 0.5965629927097937,\n",
       " 0.6418964838040973,\n",
       " 0.6616291329950585,\n",
       " 0.6621999413582464,\n",
       " 0.67344766656941,\n",
       " 0.6887807692339939,\n",
       " 0.7308208424548985,\n",
       " 0.7311491519487128,\n",
       " 0.7440635692613816,\n",
       " 0.7648326973092832,\n",
       " 0.7736886543454898,\n",
       " 0.7746634045487986,\n",
       " 0.8005803377663494,\n",
       " 0.8020966216118304,\n",
       " 0.8183449264149757,\n",
       " 1.0557360934466093,\n",
       " 1.0727262401748214,\n",
       " 1.0836604928061608,\n",
       " 1.0891309263914288,\n",
       " 1.0927793868524742,\n",
       " 1.1735012623466705,\n",
       " 1.2903942687249605,\n",
       " 1.3012344486712861,\n",
       " 1.4200649733581299,\n",
       " 1.4581702396426053,\n",
       " 1.528533225459434,\n",
       " 1.7059400472094048,\n",
       " 1.88647311913852,\n",
       " 1.922567511619842,\n",
       " 2.187483378208281,\n",
       " 2.2856315312872746]"
      ]
     },
     "execution_count": 21,
     "metadata": {},
     "output_type": "execute_result"
    }
   ],
   "source": [
    "sorted_data = sorted(data)\n",
    "sorted_data"
   ]
  },
  {
   "cell_type": "markdown",
   "metadata": {},
   "source": [
    "We need to find the theoretical quantiles of the normal distribution. We expect 100 random numbers that follow a normal distribution should be evenly distributed in the 'bell shape'. We split the distribution into 100 equal segments and find the z-score corresponding to each (middle of the) segment."
   ]
  },
  {
   "cell_type": "code",
   "execution_count": 22,
   "metadata": {
    "collapsed": true
   },
   "outputs": [
    {
     "data": {
      "text/plain": [
       "array([0.005, 0.015, 0.025, 0.035, 0.045, 0.055, 0.065, 0.075, 0.085,\n",
       "       0.095, 0.105, 0.115, 0.125, 0.135, 0.145, 0.155, 0.165, 0.175,\n",
       "       0.185, 0.195, 0.205, 0.215, 0.225, 0.235, 0.245, 0.255, 0.265,\n",
       "       0.275, 0.285, 0.295, 0.305, 0.315, 0.325, 0.335, 0.345, 0.355,\n",
       "       0.365, 0.375, 0.385, 0.395, 0.405, 0.415, 0.425, 0.435, 0.445,\n",
       "       0.455, 0.465, 0.475, 0.485, 0.495, 0.505, 0.515, 0.525, 0.535,\n",
       "       0.545, 0.555, 0.565, 0.575, 0.585, 0.595, 0.605, 0.615, 0.625,\n",
       "       0.635, 0.645, 0.655, 0.665, 0.675, 0.685, 0.695, 0.705, 0.715,\n",
       "       0.725, 0.735, 0.745, 0.755, 0.765, 0.775, 0.785, 0.795, 0.805,\n",
       "       0.815, 0.825, 0.835, 0.845, 0.855, 0.865, 0.875, 0.885, 0.895,\n",
       "       0.905, 0.915, 0.925, 0.935, 0.945, 0.955, 0.965, 0.975, 0.985,\n",
       "       0.995])"
      ]
     },
     "execution_count": 22,
     "metadata": {},
     "output_type": "execute_result"
    }
   ],
   "source": [
    "sampling_points = (np.arange(100) + 0.5) / 100\n",
    "sampling_points"
   ]
  },
  {
   "cell_type": "markdown",
   "metadata": {},
   "source": [
    "We use scipy to compute the z-score."
   ]
  },
  {
   "cell_type": "code",
   "execution_count": 23,
   "metadata": {
    "collapsed": true
   },
   "outputs": [
    {
     "data": {
      "text/plain": [
       "[-2.575829303548901,\n",
       " -2.1700903775845606,\n",
       " -1.9599639845400545,\n",
       " -1.8119106729525978,\n",
       " -1.6953977102721358,\n",
       " -1.5981931399228175,\n",
       " -1.5141018876192835,\n",
       " -1.4395314709384563,\n",
       " -1.372203808998726,\n",
       " -1.3105791121681285,\n",
       " -1.2535654384704504,\n",
       " -1.200358858030859,\n",
       " -1.1503493803760079,\n",
       " -1.1030625561995975,\n",
       " -1.0581216176847767,\n",
       " -1.0152220332170279,\n",
       " -0.9741138770593092,\n",
       " -0.9345892910734802,\n",
       " -0.8964733640019162,\n",
       " -0.8596173642419115,\n",
       " -0.8238936303385574,\n",
       " -0.7891916526582226,\n",
       " -0.7554150263604693,\n",
       " -0.7224790519280627,\n",
       " -0.6903088239330339,\n",
       " -0.6588376927361878,\n",
       " -0.6280060144375695,\n",
       " -0.5977601260424784,\n",
       " -0.5680514983389829,\n",
       " -0.5388360302784503,\n",
       " -0.5100734569685949,\n",
       " -0.4817268495847303,\n",
       " -0.45376219016987945,\n",
       " -0.4261480078412781,\n",
       " -0.39885506564233686,\n",
       " -0.37185608938507475,\n",
       " -0.34512553147047237,\n",
       " -0.31863936396437514,\n",
       " -0.2923748962268042,\n",
       " -0.26631061320409494,\n",
       " -0.2404260311423079,\n",
       " -0.21470156800174456,\n",
       " -0.18911842627279252,\n",
       " -0.16365848623314128,\n",
       " -0.13830420796140452,\n",
       " -0.1130385406445651,\n",
       " -0.08784483789587168,\n",
       " -0.06270677794321385,\n",
       " -0.037608287661255936,\n",
       " -0.012533469508069276,\n",
       " 0.012533469508069276,\n",
       " 0.037608287661255936,\n",
       " 0.06270677794321385,\n",
       " 0.08784483789587182,\n",
       " 0.11303854064456524,\n",
       " 0.13830420796140466,\n",
       " 0.16365848623314114,\n",
       " 0.18911842627279238,\n",
       " 0.21470156800174442,\n",
       " 0.2404260311423079,\n",
       " 0.26631061320409494,\n",
       " 0.2923748962268042,\n",
       " 0.31863936396437514,\n",
       " 0.34512553147047237,\n",
       " 0.37185608938507475,\n",
       " 0.39885506564233686,\n",
       " 0.4261480078412783,\n",
       " 0.45376219016987956,\n",
       " 0.48172684958473044,\n",
       " 0.5100734569685946,\n",
       " 0.5388360302784502,\n",
       " 0.5680514983389827,\n",
       " 0.5977601260424784,\n",
       " 0.6280060144375695,\n",
       " 0.6588376927361878,\n",
       " 0.6903088239330339,\n",
       " 0.7224790519280627,\n",
       " 0.7554150263604693,\n",
       " 0.7891916526582226,\n",
       " 0.8238936303385574,\n",
       " 0.8596173642419117,\n",
       " 0.8964733640019161,\n",
       " 0.93458929107348,\n",
       " 0.9741138770593092,\n",
       " 1.0152220332170279,\n",
       " 1.0581216176847767,\n",
       " 1.1030625561995975,\n",
       " 1.1503493803760079,\n",
       " 1.200358858030859,\n",
       " 1.2535654384704504,\n",
       " 1.3105791121681285,\n",
       " 1.3722038089987263,\n",
       " 1.4395314709384563,\n",
       " 1.514101887619284,\n",
       " 1.5981931399228175,\n",
       " 1.6953977102721358,\n",
       " 1.8119106729525973,\n",
       " 1.959963984540054,\n",
       " 2.17009037758456,\n",
       " 2.5758293035489004]"
      ]
     },
     "execution_count": 23,
     "metadata": {},
     "output_type": "execute_result"
    }
   ],
   "source": [
    "import scipy.stats as st\n",
    "sampling_theoretical_quantiles = [st.norm.ppf(p) for p in sampling_points]\n",
    "sampling_theoretical_quantiles"
   ]
  },
  {
   "cell_type": "markdown",
   "metadata": {},
   "source": [
    "Now, just plot them in a scatter plot."
   ]
  },
  {
   "cell_type": "code",
   "execution_count": 24,
   "metadata": {
    "collapsed": true
   },
   "outputs": [
    {
     "data": {
      "image/png": "[encoded data removed]",
      "text/plain": [
       "<Figure size 640x480 with 1 Axes>"
      ]
     },
     "metadata": {},
     "output_type": "display_data"
    }
   ],
   "source": [
    "plt.scatter(sampling_theoretical_quantiles, sorted_data)\n",
    "plt.plot([-2.5, 2.5], [-2.5, 2.5], 'r')\n",
    "plt.show()"
   ]
  },
  {
   "cell_type": "markdown",
   "metadata": {},
   "source": [
    "Again, double check with a library. This time, it is [statsmodel](https://www.statsmodels.org/dev/generated/statsmodels.graphics.gofplots.qqplot.html)."
   ]
  },
  {
   "cell_type": "code",
   "execution_count": 27,
   "metadata": {
    "collapsed": true
   },
   "outputs": [
    {
     "data": {
      "image/png": "[encoded data removed]",
      "text/plain": [
       "<Figure size 640x480 with 1 Axes>"
      ]
     },
     "metadata": {},
     "output_type": "display_data"
    }
   ],
   "source": [
    "import statsmodels.api as sm\n",
    "\n",
    "sm.qqplot(data, line='r')\n",
    "plt.show()"
   ]
  },
  {
   "cell_type": "markdown",
   "metadata": {},
   "source": [
    "A bonus third way, we draw our data against another empirical normal distribution, with very different parameters. And we still see the points following a straight line!"
   ]
  },
  {
   "cell_type": "code",
   "execution_count": 26,
   "metadata": {
    "collapsed": true
   },
   "outputs": [
    {
     "data": {
      "image/png": "[encoded data removed]",
      "text/plain": [
       "<Figure size 640x480 with 1 Axes>"
      ]
     },
     "metadata": {},
     "output_type": "display_data"
    }
   ],
   "source": [
    "another_normal_data = np.random.normal(10, 101, 100)\n",
    "plt.scatter(sorted(another_normal_data), sorted_data)\n",
    "plt.show()"
   ]
  }
 ],
 "metadata": {
  "kernelspec": {
   "display_name": "Python 3",
   "language": "python",
   "name": "python3"
  },
  "language_info": {
   "codemirror_mode": {
    "name": "ipython",
    "version": 3
   },
   "file_extension": ".py",
   "mimetype": "text/x-python",
   "name": "python",
   "nbconvert_exporter": "python",
   "pygments_lexer": "ipython3",
   "version": "3.11.4"
  },
  "toc": {
   "base_numbering": 1,
   "nav_menu": {},
   "number_sections": false,
   "sideBar": true,
   "skip_h1_title": true,
   "title_cell": "Contents",
   "title_sidebar": "Contents",
   "toc_cell": false,
   "toc_position": {},
   "toc_section_display": true,
   "toc_window_display": false
  }
 },
 "nbformat": 4,
 "nbformat_minor": 2
}
