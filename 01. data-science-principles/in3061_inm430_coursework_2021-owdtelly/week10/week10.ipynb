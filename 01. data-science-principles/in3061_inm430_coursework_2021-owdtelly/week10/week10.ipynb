{
 "cells": [
  {
   "cell_type": "code",
   "execution_count": 6,
   "metadata": {},
   "outputs": [],
   "source": [
    "import urllib\n",
    "import matplotlib.pyplot as plt\n",
    "from PIL import Image\n",
    "import numpy as np"
   ]
  },
  {
   "cell_type": "code",
   "execution_count": 12,
   "metadata": {},
   "outputs": [],
   "source": [
    "blood_cells = Image.open('blood.jpg')\n",
    "\n",
    "base_width = 300\n",
    "\n",
    "wpercent = (base_width / float(blood_cells.size[0]))\n",
    "\n",
    "hsize = int((float(blood_cells.size[1]) * float(wpercent)))\n",
    "\n",
    "img1 = blood_cells.resize((base_width, hsize), Image.Resampling.LANCZOS)\n",
    "\n",
    "img1.show(title='Blood Cells')\n"
   ]
  },
  {
   "cell_type": "code",
   "execution_count": null,
   "metadata": {},
   "outputs": [],
   "source": [
    "img2 = Image.open('monet.jpg')"
   ]
  }
 ],
 "metadata": {
  "kernelspec": {
   "display_name": "base",
   "language": "python",
   "name": "python3"
  },
  "language_info": {
   "codemirror_mode": {
    "name": "ipython",
    "version": 3
   },
   "file_extension": ".py",
   "mimetype": "text/x-python",
   "name": "python",
   "nbconvert_exporter": "python",
   "pygments_lexer": "ipython3",
   "version": "3.11.5"
  }
 },
 "nbformat": 4,
 "nbformat_minor": 2
}
